{
 "cells": [
  {
   "cell_type": "code",
   "execution_count": 1,
   "id": "307712d4",
   "metadata": {
    "vscode": {
     "languageId": "plaintext"
    }
   },
   "outputs": [
    {
     "data": {
      "text/markdown": [
       "Enter a B expression or predicate to evaluate it. To load a B machine, enter its source code directly, or use `:load` to load an external machine file.\n",
       "\n",
       "You can also use any of the following commands. For more help on a particular command, run `:help commandname`.\n",
       "\n",
       "## Evaluation\n",
       "\n",
       "* `:eval` - Evaluate a formula and display the result.\n",
       "* `:solve` - Solve a predicate with the specified solver.\n",
       "* `:table` - Display an expression as a table.\n",
       "* `:type` - Display the static type of a formula.\n",
       "* `:prettyprint` - Pretty-print a predicate.\n",
       "* `:let` - Evaluate an expression and store it in a local variable.\n",
       "* `:unlet` - Remove a local variable.\n",
       "* `:assert` - Ensure that the predicate is true, and show an error otherwise.\n",
       "* `:language` - Change the language used to parse formulas entered by the user.\n",
       "\n",
       "## Animation\n",
       "\n",
       "* `::load` - Load a B machine from the given source code.\n",
       "* `:load` - Load a machine from a file.\n",
       "* `:constants` - Set up the current machine's constants.\n",
       "* `:init` - Initialise the current machine with the specified predicate\n",
       "* `:exec` - Execute an operation.\n",
       "* `:browse` - Show information about the current state.\n",
       "* `:trace` - Display all states and executed operations in the current trace.\n",
       "* `:goto` - Go to the state with the specified index in the current trace.\n",
       "* `:find` - Try to find a state for which the given predicate is true (in addition to the machine's invariant).\n",
       "\n",
       "## Visualisation\n",
       "\n",
       "* `:show` - Show the machine's animation function visualisation for the current state.\n",
       "* `:dot` - Execute and show a dot visualisation.\n",
       "\n",
       "## Verification\n",
       "\n",
       "* `:check` - Check the machine's properties, invariant, or assertions in the current state.\n",
       "* `:modelcheck` - Run the ProB model checker on the current model.\n",
       "\n",
       "## Other\n",
       "\n",
       "* `::render` - Render some content with the specified MIME type.\n",
       "* `:bsymb` - Load all bsymb.sty command definitions, so that they can be used in $\\LaTeX$ formulas in Markdown cells.\n",
       "* `:groovy` - Evaluate the given Groovy expression.\n",
       "* `:help` - Display help for a specific command, or general help about the REPL.\n",
       "* `:pref` - View or change the value of one or more preferences.\n",
       "* `:stats` - Show statistics about the state space.\n",
       "* `:time` - Execute the given command and measure how long it takes to execute.\n",
       "* `:version` - Display version info about the ProB 2 Jupyter kernel and its underlying components.\n"
      ],
      "text/plain": [
       "Enter a B expression or predicate to evaluate it. To load a B machine, enter its source code directly, or use :load to load an external machine file.\n",
       "You can also use any of the following commands. For more help on a particular command, run :help commandname.\n",
       "\n",
       "Evaluation:\n",
       ":eval - Evaluate a formula and display the result.\n",
       ":solve - Solve a predicate with the specified solver.\n",
       ":table - Display an expression as a table.\n",
       ":type - Display the static type of a formula.\n",
       ":prettyprint - Pretty-print a predicate.\n",
       ":let - Evaluate an expression and store it in a local variable.\n",
       ":unlet - Remove a local variable.\n",
       ":assert - Ensure that the predicate is true, and show an error otherwise.\n",
       ":language - Change the language used to parse formulas entered by the user.\n",
       "\n",
       "Animation:\n",
       "::load - Load a B machine from the given source code.\n",
       ":load - Load a machine from a file.\n",
       ":constants - Set up the current machine's constants.\n",
       ":init - Initialise the current machine with the specified predicate\n",
       ":exec - Execute an operation.\n",
       ":browse - Show information about the current state.\n",
       ":trace - Display all states and executed operations in the current trace.\n",
       ":goto - Go to the state with the specified index in the current trace.\n",
       ":find - Try to find a state for which the given predicate is true (in addition to the machine's invariant).\n",
       "\n",
       "Visualisation:\n",
       ":show - Show the machine's animation function visualisation for the current state.\n",
       ":dot - Execute and show a dot visualisation.\n",
       "\n",
       "Verification:\n",
       ":check - Check the machine's properties, invariant, or assertions in the current state.\n",
       ":modelcheck - Run the ProB model checker on the current model.\n",
       "\n",
       "Other:\n",
       "::render - Render some content with the specified MIME type.\n",
       ":bsymb - Load all bsymb.sty command definitions, so that they can be used in $\\LaTeX$ formulas in Markdown cells.\n",
       ":groovy - Evaluate the given Groovy expression.\n",
       ":help - Display help for a specific command, or general help about the REPL.\n",
       ":pref - View or change the value of one or more preferences.\n",
       ":stats - Show statistics about the state space.\n",
       ":time - Execute the given command and measure how long it takes to execute.\n",
       ":version - Display version info about the ProB 2 Jupyter kernel and its underlying components.\n"
      ]
     },
     "execution_count": 1,
     "metadata": {},
     "output_type": "execute_result"
    }
   ],
   "source": [
    ":help"
   ]
  },
  {
   "cell_type": "code",
   "execution_count": 21,
   "id": "1e14831d-d468-486b-a3ea-3e54c1929684",
   "metadata": {},
   "outputs": [
    {
     "data": {
      "text/markdown": [
       "```\n",
       ":groovy EXPRESSION\n",
       "```\n",
       "\n",
       "Evaluate the given Groovy expression.\n",
       "\n",
       "The standard ProB 2 Groovy environment is used to evaluate the expression, so ProB 2's global `api` and `animations` objects may be used to load machines and manipulate traces."
      ],
      "text/plain": [
       ":groovy EXPRESSION\n",
       "Evaluate the given Groovy expression.\n",
       "\n",
       "The standard ProB 2 Groovy environment is used to evaluate the expression, so ProB 2's global `api` and `animations` objects may be used to load machines and manipulate traces."
      ]
     },
     "execution_count": 21,
     "metadata": {},
     "output_type": "execute_result"
    }
   ],
   "source": [
    ":help groovy"
   ]
  },
  {
   "cell_type": "code",
   "execution_count": 42,
   "id": "a4cf6627-db20-495f-852d-ee3eb60ad1a6",
   "metadata": {},
   "outputs": [
    {
     "data": {
      "text/plain": [
       "{classLoader=jdk.internal.loader.ClassLoaders$AppClassLoader@2a139a55, declaredAnnotations=[Ljava.lang.annotation.Annotation;@587fdf52, annotations=[Ljava.lang.annotation.Annotation;@587fdf52, superclass=class java.lang.Object, interface=false, annotatedInterfaces=[Ljava.lang.reflect.AnnotatedType;@486d52e, methods=[Ljava.lang.reflect.Method;@cf10855, enclosingConstructor=null, class=class java.lang.Class, declaredMethods=[Ljava.lang.reflect.Method;@2c75b0d9, fields=[Ljava.lang.reflect.Field;@a566f4a, enum=false, primitive=false, recordComponents=null, nestHost=class de.be4.classicalb.core.parser.BParser, array=false, localClass=false, memberClass=false, constructors=[Ljava.lang.reflect.Constructor;@38cbe48b, declaredFields=[Ljava.lang.reflect.Field;@3cfce067, classes=[Ljava.lang.Class;@3d0e6c59, module=unnamed module @5479e3f, record=false, sealed=false, modifiers=1, declaredConstructors=[Ljava.lang.reflect.Constructor;@49b788d, protectionDomain=ProtectionDomain  (file:/C:/Users/hunta/Documents/GitHub/compilers/.venv/share/jupyter/kernels/prob2/prob2-jupyter-kernel-all.jar <no signer certificates>)\n",
       " jdk.internal.loader.ClassLoaders$AppClassLoader@2a139a55\n",
       " <no principals>\n",
       " java.security.Permissions@38b710e4 (\n",
       " (\"java.util.PropertyPermission\" \"java.specification.version\" \"read\")\n",
       " (\"java.util.PropertyPermission\" \"java.vm.vendor\" \"read\")\n",
       " (\"java.util.PropertyPermission\" \"path.separator\" \"read\")\n",
       " (\"java.util.PropertyPermission\" \"os.version\" \"read\")\n",
       " (\"java.util.PropertyPermission\" \"java.vendor.url\" \"read\")\n",
       " (\"java.util.PropertyPermission\" \"java.vm.name\" \"read\")\n",
       " (\"java.util.PropertyPermission\" \"java.vm.specification.version\" \"read\")\n",
       " (\"java.util.PropertyPermission\" \"os.name\" \"read\")\n",
       " (\"java.util.PropertyPermission\" \"java.version\" \"read\")\n",
       " (\"java.util.PropertyPermission\" \"os.arch\" \"read\")\n",
       " (\"java.util.PropertyPermission\" \"java.specification.vendor\" \"read\")\n",
       " (\"java.util.PropertyPermission\" \"java.vm.specification.name\" \"read\")\n",
       " (\"java.util.PropertyPermission\" \"file.separator\" \"read\")\n",
       " (\"java.util.PropertyPermission\" \"line.separator\" \"read\")\n",
       " (\"java.util.PropertyPermission\" \"java.vm.specification.vendor\" \"read\")\n",
       " (\"java.util.PropertyPermission\" \"java.specification.name\" \"read\")\n",
       " (\"java.util.PropertyPermission\" \"java.vendor\" \"read\")\n",
       " (\"java.util.PropertyPermission\" \"java.vm.version\" \"read\")\n",
       " (\"java.util.PropertyPermission\" \"java.class.version\" \"read\")\n",
       " (\"java.io.FilePermission\" \"C:\\Users\\hunta\\Documents\\GitHub\\compilers\\.venv\\share\\jupyter\\kernels\\prob2\\prob2-jupyter-kernel-all.jar\" \"read\")\n",
       " (\"java.io.FilePermission\" \"C:\\Users\\hunta\\Documents\\GitHub\\compilers\\.venv\\share\\jupyter\\kernels\\prob2\\prob2-jupyter-kernel-all.jar#plus\" \"read\")\n",
       " (\"java.lang.RuntimePermission\" \"accessClassInPackage.com.sun.beans.*\")\n",
       " (\"java.lang.RuntimePermission\" \"accessClassInPackage.com.apple.*\")\n",
       " (\"java.lang.RuntimePermission\" \"accessClassInPackage.com.sun.java.swing.plaf.*\")\n",
       " (\"java.lang.RuntimePermission\" \"exitVM\")\n",
       " (\"java.lang.RuntimePermission\" \"accessClassInPackage.com.sun.beans\")\n",
       " (\"java.net.SocketPermission\" \"localhost:0\" \"listen,resolve\")\n",
       ")\n",
       "\n",
       ", annotation=false, hidden=false, interfaces=[Ljava.lang.Class;@7695cf0f, anonymousClass=false, name=de.be4.classicalb.core.parser.BParser, simpleName=BParser, enclosingMethod=null, genericInterfaces=[Ljava.lang.Class;@29959e40, genericSuperclass=class java.lang.Object, nestMembers=[Ljava.lang.Class;@5325b228, enclosingClass=null, canonicalName=de.be4.classicalb.core.parser.BParser, componentType=null, typeParameters=[Ljava.lang.reflect.TypeVariable;@5315b898, typeName=de.be4.classicalb.core.parser.BParser, enumConstants=null, packageName=de.be4.classicalb.core.parser, annotatedSuperclass=java.lang.Object, permittedSubclasses=null, signers=null, declaringClass=null, declaredClasses=[Ljava.lang.Class;@ba0e842, package=package de.be4.classicalb.core.parser, synthetic=false}"
      ]
     },
     "execution_count": 42,
     "metadata": {},
     "output_type": "execute_result"
    }
   ],
   "source": [
    ":groovy \n",
    "import de.be4.classicalb.core.parser.BParser;\n",
    "de.be4.classicalb.core.parser.BParser.getProperties()\n"
   ]
  },
  {
   "cell_type": "code",
   "execution_count": 5,
   "id": "3a7b353e-6acb-4bca-bf6e-0047ea5afc50",
   "metadata": {},
   "outputs": [
    {
     "data": {
      "text/plain": [
       "{startPos=(1,1), endPos=(1,2), literal=1 , class=class de.be4.classicalb.core.parser.node.AIntegerExpression}"
      ]
     },
     "execution_count": 5,
     "metadata": {},
     "output_type": "execute_result"
    }
   ],
   "source": [
    ":groovy \n",
    "import de.be4.classicalb.core.parser.BParser;\n",
    "parser = new de.be4.classicalb.core.parser.BParser(\"test\")\n",
    "test_ast = parser.parseExpression(\"1+2+3\")\n",
    "test_ast.PParseUnit.expression.left.left.getProperties()"
   ]
  },
  {
   "cell_type": "code",
   "execution_count": 9,
   "id": "9b2d5d0a-28a6-4550-aad5-22ec3644daa2",
   "metadata": {},
   "outputs": [
    {
     "data": {
      "text/plain": [
       "POW(INTEGER)"
      ]
     },
     "execution_count": 9,
     "metadata": {},
     "output_type": "execute_result"
    }
   ],
   "source": [
    ":type {x  | x : {1,2,3}}"
   ]
  },
  {
   "cell_type": "code",
   "execution_count": 5,
   "id": "bbcf20ec-ec1b-4bba-a262-de5fa170566b",
   "metadata": {},
   "outputs": [
    {
     "ename": "EvaluationException",
     "evalue": "[1,8] expecting: EOF",
     "output_type": "error",
     "traceback": [
      "\u001b[1m\u001b[31mde.prob.animator.domainobjects.EvaluationException: [1,8] expecting: EOF\u001b[0m"
     ]
    }
   ],
   "source": [
    "import os"
   ]
  },
  {
   "cell_type": "code",
   "execution_count": 2,
   "id": "13128d64-b5c7-4eac-942f-749e0579b370",
   "metadata": {},
   "outputs": [
    {
     "ename": "WithSourceCodeException",
     "evalue": "de.prob.exception.ProBError: ERROR\nProB returned error messages:\nError: Unknown identifier \"System.out.println\" (:1:0 to 1:18)",
     "output_type": "error",
     "traceback": [
      "\u001b[1m\u001b[30mError from ProB: \u001b[0m\u001b[1m\u001b[31mERROR\u001b[0m",
      "\u001b[1m\u001b[31mError: Unknown identifier \"System.out.println\" (:1:0 to 1:18)\u001b[0m",
      "\u001b[1m\u001b[30m\u001b[0m\u001b[1m\u001b[30m\u001b[41mSystem.out.println\u001b[0m\u001b[1m\u001b[30m(\"hello world\")\u001b[0m"
     ]
    }
   ],
   "source": [
    "System.out.println(\"hello world\")"
   ]
  },
  {
   "cell_type": "code",
   "execution_count": null,
   "id": "5cc21b91-1665-46f4-983d-d25ebe50c694",
   "metadata": {},
   "outputs": [],
   "source": []
  }
 ],
 "metadata": {
  "kernelspec": {
   "display_name": "ProB 2",
   "language": "prob",
   "name": "prob2"
  },
  "language_info": {
   "codemirror_mode": "prob2_jupyter_repl",
   "file_extension": ".prob",
   "mimetype": "text/x-prob2-jupyter-repl",
   "name": "prob"
  }
 },
 "nbformat": 4,
 "nbformat_minor": 5
}
