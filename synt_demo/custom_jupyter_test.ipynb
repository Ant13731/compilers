{
 "cells": [
  {
   "cell_type": "code",
   "execution_count": 1,
   "id": "6e34c8ca-70bc-4a7a-866a-32bd2977936c",
   "metadata": {},
   "outputs": [
    {
     "name": "stdout",
     "output_type": "stream",
     "text": [
      "Received:test"
     ]
    }
   ],
   "source": [
    "test"
   ]
  }
 ],
 "metadata": {
  "kernelspec": {
   "display_name": "Simile Kernel",
   "language": "simile",
   "name": "simile_kernel"
  },
  "language_info": {
   "codemirror_mode": "simile",
   "file_extension": ".simile",
   "mimetype": "text/x-simile",
   "name": "simile",
   "pygments_lexer": "simile",
   "version": "0.0.1"
  }
 },
 "nbformat": 4,
 "nbformat_minor": 5
}
